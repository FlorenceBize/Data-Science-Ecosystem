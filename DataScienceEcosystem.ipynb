{
 "cells": [
  {
   "cell_type": "markdown",
   "id": "c06a360a-8e21-4d15-beb0-82b12e0d9b23",
   "metadata": {},
   "source": [
    "# Data Science Tools and Ecosystem #"
   ]
  },
  {
   "cell_type": "markdown",
   "id": "edc8320a-55df-4e44-bc5c-872ecd0eea59",
   "metadata": {},
   "source": [
    "In this notebook, Data Science Tools and Ecosystem are summarized."
   ]
  },
  {
   "cell_type": "markdown",
   "id": "b9cf17a9-45a2-47f7-96fa-f7da48d1cd0c",
   "metadata": {},
   "source": [
    "Objectives:\n",
    "\n",
    "- List of popular languages for Data Science\n",
    "- List of common libraries for Data Science\n",
    "- Table of Data Sciences Tools\n",
    "- Examples of arithmetic expressions in Python\n",
    "\n",
    "## Author ##\n",
    "Florence Bize"
   ]
  },
  {
   "cell_type": "markdown",
   "id": "9fb8c253-48ef-4688-9396-675e310aaeb1",
   "metadata": {},
   "source": [
    "Some of the popular languages that Data Scientists use are:\n",
    "\n",
    "1. Python\n",
    "2. R\n",
    "3. C++\n",
    "4. Java\n",
    "5. JavaScript\n",
    "6. Julia\n",
    "\n",
    "Some of the commonly used libraries used by Data Scientists include:\n",
    "\n",
    "1. Pandas\n",
    "2. Matplotlib\n",
    "3. Plotly\n",
    "4. PyTorch\n",
    "5. SciPy\n",
    "6. SciKit-Learn"
   ]
  },
  {
   "cell_type": "code",
   "execution_count": null,
   "id": "f3218578-0682-44da-928b-64500a411315",
   "metadata": {},
   "outputs": [],
   "source": []
  },
  {
   "cell_type": "markdown",
   "id": "858f67d9-5625-480d-b07f-4580c25e4d25",
   "metadata": {
    "tags": []
   },
   "source": [
    "| Data Science Tools |\n",
    "| --- |\n",
    "| RStudio |\n",
    "| TensorFolw |\n",
    "| Apache Sparck |"
   ]
  },
  {
   "cell_type": "markdown",
   "id": "323a8b01-13b4-43b2-bd7d-2e6e0702c30c",
   "metadata": {
    "tags": []
   },
   "source": [
    "### Below are a few examples of evaluating arithmetic expressions in Python ###"
   ]
  },
  {
   "cell_type": "code",
   "execution_count": 2,
   "id": "fd16debe-f71d-4fae-b202-681895afee3b",
   "metadata": {
    "tags": []
   },
   "outputs": [
    {
     "data": {
      "text/plain": [
       "17"
      ]
     },
     "execution_count": 2,
     "metadata": {},
     "output_type": "execute_result"
    }
   ],
   "source": [
    "(3*4)+5\n",
    "#This a simple arithmetic expression to mutiply then add integers"
   ]
  },
  {
   "cell_type": "code",
   "execution_count": 5,
   "id": "391aa4bb-ea9e-4bfb-b074-01c0e11d17e9",
   "metadata": {
    "tags": []
   },
   "outputs": [
    {
     "data": {
      "text/plain": [
       "3.3333333333333335"
      ]
     },
     "execution_count": 5,
     "metadata": {},
     "output_type": "execute_result"
    }
   ],
   "source": [
    "#This will convert 200 minutes to hours by diving by 60\n",
    "200/60"
   ]
  },
  {
   "cell_type": "code",
   "execution_count": null,
   "id": "4294c338-97ca-47a0-b0e6-1ce5b6f3466b",
   "metadata": {},
   "outputs": [],
   "source": []
  }
 ],
 "metadata": {
  "kernelspec": {
   "display_name": "Python",
   "language": "python",
   "name": "conda-env-python-py"
  },
  "language_info": {
   "codemirror_mode": {
    "name": "ipython",
    "version": 3
   },
   "file_extension": ".py",
   "mimetype": "text/x-python",
   "name": "python",
   "nbconvert_exporter": "python",
   "pygments_lexer": "ipython3",
   "version": "3.7.12"
  }
 },
 "nbformat": 4,
 "nbformat_minor": 5
}
